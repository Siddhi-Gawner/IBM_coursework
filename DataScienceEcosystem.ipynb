{
  "nbformat": 4,
  "nbformat_minor": 0,
  "metadata": {
    "colab": {
      "provenance": []
    },
    "kernelspec": {
      "name": "python3",
      "display_name": "Python 3"
    },
    "language_info": {
      "name": "python"
    }
  },
  "cells": [
    {
      "cell_type": "markdown",
      "source": [
        "<h1>Data Science Tools and Ecosystem</h1>"
      ],
      "metadata": {
        "id": "-feWA2M0_gnK"
      }
    },
    {
      "cell_type": "markdown",
      "source": [
        "In this notebook, Data Science Tools and Ecosystem are summarized. This notebook is a part of peer review peoject."
      ],
      "metadata": {
        "id": "GilzsvxI_8wP"
      }
    },
    {
      "cell_type": "markdown",
      "source": [
        "Objectives :    \n",
        "1. List popular data science languages.\n",
        "2. List popular data science libraries.\n",
        "3. List popular data science tools."
      ],
      "metadata": {
        "id": "sWHwvOYCDLYl"
      }
    },
    {
      "cell_type": "markdown",
      "source": [
        "Some of the popular languages that Data Scientists use are:\n",
        "1. Python\n",
        "2. R\n",
        "3. SQL\n",
        "4. Julia\n",
        "5. Scala"
      ],
      "metadata": {
        "id": "LtKtUiacAXyr"
      }
    },
    {
      "cell_type": "markdown",
      "source": [
        "Some of the commonly used libraries used by Data Scientists include:\n",
        "1. Pandas\n",
        "2. Numpy\n",
        "3. Matplotlib\n",
        "4. Seaborn\n",
        "5. SciPy"
      ],
      "metadata": {
        "id": "dTr4UvmKAqEQ"
      }
    },
    {
      "cell_type": "markdown",
      "source": [
        "Data Science Tools :\n",
        "1. Jupyter notebooks\n",
        "2. RStudio\n",
        "3. Apache Spark"
      ],
      "metadata": {
        "id": "LrpdAuKVBMMr"
      }
    },
    {
      "cell_type": "markdown",
      "source": [
        "<h3>Below are a few examples of evaluating arithmetic expressions in Python</h3>"
      ],
      "metadata": {
        "id": "4rg1a6-tB7ZZ"
      }
    },
    {
      "cell_type": "code",
      "source": [
        "#This a simple arithmetic expression to mutiply then add integers\n",
        "(3*4)+5"
      ],
      "metadata": {
        "colab": {
          "base_uri": "https://localhost:8080/"
        },
        "id": "YzCecK2VCMz2",
        "outputId": "c6e0cb48-0dbf-47ce-e547-75d0dab97a28"
      },
      "execution_count": null,
      "outputs": [
        {
          "output_type": "execute_result",
          "data": {
            "text/plain": [
              "17"
            ]
          },
          "metadata": {},
          "execution_count": 1
        }
      ]
    },
    {
      "cell_type": "code",
      "source": [
        "# This will convert 200 minutes to hours by diving by 60\n",
        "min = 200\n",
        "hours = min/60\n",
        "print(hours)"
      ],
      "metadata": {
        "colab": {
          "base_uri": "https://localhost:8080/"
        },
        "id": "o7qWIHw5CoKv",
        "outputId": "1979546e-f43c-424a-a5f8-c6a9c4aa3e14"
      },
      "execution_count": null,
      "outputs": [
        {
          "output_type": "stream",
          "name": "stdout",
          "text": [
            "3.3333333333333335\n"
          ]
        }
      ]
    },
    {
      "cell_type": "markdown",
      "source": [
        "<h2>Author</h2>\n",
        "Siddhi Gawner"
      ],
      "metadata": {
        "id": "9Kg42144Dzty"
      }
    }
  ]
}